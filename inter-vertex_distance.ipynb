{
 "cells": [
  {
   "attachments": {},
   "cell_type": "markdown",
   "id": "16d6b9fb",
   "metadata": {},
   "source": [
    "# Inter-vertex distance\n",
    "This Jupyter Notebook demonstrates how to compute the inter-vertex distance for each template space and visualize them using the ``neuroboros`` package.\n",
    "\n",
    "First we import all the packages that will be used."
   ]
  },
  {
   "cell_type": "code",
   "execution_count": 1,
   "id": "66f8c3b0",
   "metadata": {},
   "outputs": [],
   "source": [
    "import numpy as np\n",
    "import neuroboros as nb\n",
    "from scipy.interpolate import interp1d\n",
    "import matplotlib.pyplot as plt\n",
    "import matplotlib as mpl\n",
    "import seaborn as sns"
   ]
  },
  {
   "attachments": {},
   "cell_type": "markdown",
   "id": "c8d0328e",
   "metadata": {},
   "source": [
    "## Customized colormap\n",
    "We used a customized colormap for [our manuscript](https://doi.org/10.1101/2023.03.21.533686). Alternatively, you can use any Matplotlib [colormap](https://matplotlib.org/stable/tutorials/colors/colormaps.html), for example, you can simply replace the block with ``cmap = 'bwr'``."
   ]
  },
  {
   "cell_type": "code",
   "execution_count": 2,
   "id": "d9e040cc",
   "metadata": {},
   "outputs": [],
   "source": [
    "nc = 10\n",
    "colors = np.concatenate(\n",
    "    [sns.color_palette(\"mako\", nc)[1:],\n",
    "     [[0.9, 0.9, 0.9]],\n",
    "     sns.color_palette(\"rocket\", nc)[1:][::-1]],\n",
    "    axis=0)\n",
    "cmap = mpl.colors.LinearSegmentedColormap.from_list('mako_rocket', colors)"
   ]
  },
  {
   "attachments": {},
   "cell_type": "markdown",
   "id": "7d10570e",
   "metadata": {},
   "source": [
    "## Computing inter-vertex distance\n",
    "We computed the inter-vertex distance of each vertex as the average distance between the vertex and its neighbors.\n",
    "The following code block computes the inter-vertex distance and stores them in ``ivd_dict``, which is a dictionary."
   ]
  },
  {
   "cell_type": "code",
   "execution_count": 3,
   "id": "e3377964",
   "metadata": {},
   "outputs": [],
   "source": [
    "ivd_dict = {}\n",
    "for space in ['fsavg-ico32', 'fslr-ico32', 'onavg-ico32']:\n",
    "    values = []\n",
    "    for lr in 'lr':\n",
    "        coords, faces = nb.geometry('midthickness', lr, space)\n",
    "        surf = nb.surface.Surface(coords, faces)\n",
    "        neighbors = surf.neighbors\n",
    "        distances = nb.distances(lr, space)\n",
    "        ivd = []\n",
    "        for i, nbrs in enumerate(neighbors):\n",
    "            ivd.append(distances[i, nbrs].mean())\n",
    "        ivd = np.array(ivd)\n",
    "        values.append(ivd)\n",
    "    ivd_dict[space] = values"
   ]
  },
  {
   "attachments": {},
   "cell_type": "markdown",
   "id": "388b89ee",
   "metadata": {},
   "source": [
    "## Visualization on cortical surface"
   ]
  },
  {
   "cell_type": "code",
   "execution_count": 8,
   "id": "b44ab718",
   "metadata": {
    "scrolled": false
   },
   "outputs": [],
   "source": [
    "mean = np.concatenate(ivd_dict['onavg-ico32']).mean()\n",
    "vmax, vmin = mean * 1.5, mean * 0.5\n",
    "for space in ['fsavg-ico32', 'fslr-ico32', 'onavg-ico32']:\n",
    "    values = ivd_dict[space]\n",
    "    nb.plot(values, space=space, cmap=cmap, vmax=vmax, vmin=vmin,\n",
    "            title=f'Inter-vertex distance ({space})', output='pillow',\n",
    "            fn=f'figures/inter-vertex_distance_{space}.png')"
   ]
  },
  {
   "attachments": {},
   "cell_type": "markdown",
   "id": "4a1aa388",
   "metadata": {},
   "source": [
    "::::{grid}\n",
    ":gutter: 3\n",
    "\n",
    ":::{grid-item-card} fsavg-ico32\n",
    "![](figures/inter-vertex_distance_fsavg-ico32.png)\n",
    ":::\n",
    "\n",
    ":::{grid-item-card} fslr-ico32\n",
    "![](figures/inter-vertex_distance_fslr-ico32.png)\n",
    ":::\n",
    "\n",
    ":::{grid-item-card} onavg-ico32\n",
    "![](figures/inter-vertex_distance_onavg-ico32.png)\n",
    ":::\n",
    "::::"
   ]
  },
  {
   "attachments": {},
   "cell_type": "markdown",
   "id": "17ab56fc",
   "metadata": {},
   "source": [
    "## Distribution of inter-vertex distance"
   ]
  },
  {
   "attachments": {},
   "cell_type": "markdown",
   "id": "aa4a1799",
   "metadata": {},
   "source": [
    "The following block shows how to plot the histograms and the colorbar as in [our manuscript](https://doi.org/10.1101/2023.03.21.533686)."
   ]
  },
  {
   "cell_type": "code",
   "execution_count": 9,
   "id": "54288402",
   "metadata": {},
   "outputs": [],
   "source": [
    "ico = 32\n",
    "mean = np.concatenate(ivd_dict[f'onavg-ico{ico}']).mean()\n",
    "vmin, vmax = 0.5 * mean, 1.5 * mean\n",
    "norm = mpl.colors.Normalize(vmin=vmin, vmax=vmax, clip=True)\n",
    "lim = [vmin, vmax]\n",
    "mpl.rcParams['font.family'] = 'Arial'\n",
    "fig = plt.figure(figsize=(4.5/2.54, 4.2/2.54), dpi=600)\n",
    "\n",
    "ticks = np.array([0, 0.25, 0.5, 0.75, 1]) * (vmax - vmin) + vmin\n",
    "\n",
    "for i, space in enumerate([f'fsavg-ico{ico}', f'fslr-ico{ico}', f'onavg-ico{ico}']):\n",
    "    y = [0.85, 0.7, 0.3][i]\n",
    "    ax = fig.add_axes([0.05, y, 0.9, 0.2])\n",
    "    d = np.concatenate(ivd_dict[space])\n",
    "    bins = np.linspace(lim[0], lim[1], 101)\n",
    "    for k in ['left', 'right', 'top']:\n",
    "        ax.spines[k].set_visible(False)\n",
    "    ax.set_yticks([])\n",
    "    ax.set_xticks([])\n",
    "    amplitudes, _, patches = ax.hist(\n",
    "        d, bins, orientation='vertical', density=True, clip_on=False)\n",
    "    for i, p in enumerate(patches):\n",
    "        v = bins[[i, i+1]].mean()\n",
    "        c = cmap(norm(v))\n",
    "        p.set_facecolor(c)\n",
    "    ax.set_xlim(lim)\n",
    "    ax.set_ylim([0, {64:3, 32:1.5}[ico]])\n",
    "    ax.set_facecolor([1.0, 1.0, 1.0, 0.0])\n",
    "    ax.annotate(space, (0.05, y+0.09), xycoords='figure fraction', size=7,\n",
    "               va='top', ha='left')\n",
    "\n",
    "ax2 = fig.add_axes([0.05, 0.14, 0.9, 0.05])\n",
    "v = np.linspace(vmin, vmax, 10001)\n",
    "c = cmap(norm(v))\n",
    "\n",
    "ax2.imshow(c[np.newaxis], extent=[0, 1, 0, 1])\n",
    "ax2.set_xlim([0, 1])\n",
    "ax2.set_ylim([0, 1])\n",
    "ax2.set_yticks([])\n",
    "ax2.set_xticks(interp1d(lim, [0, 1], axis=0)(ticks))\n",
    "ax2.set_xticklabels([f'{_:.2f}' for _ in ticks], size=5)\n",
    "ax2.set_xlabel('Inter-vertex distance (mm)', size=7, labelpad=0)\n",
    "ax2.set_aspect('auto')\n",
    "ax2.tick_params(axis='both', pad=1, length=3, labelsize=6)\n",
    "\n",
    "annots = [(0.04, 'denser', 'left'), (0.5, 'better', 'center'),\n",
    "          (0.96, 'sparser', 'right')]\n",
    "for x, txt, ha in annots:\n",
    "    ax2.annotate(txt, (x, 0.21), xycoords='figure fraction', size=7, ha=ha)\n",
    "\n",
    "plt.savefig(f'figures/inter-vertex_distance_ico{ico}.png', dpi=600)\n",
    "plt.close()"
   ]
  },
  {
   "attachments": {},
   "cell_type": "markdown",
   "id": "0e1f3cb7",
   "metadata": {},
   "source": [
    "Now we have the statistical distributions and the color scale as the 4th panel:\n",
    "\n",
    ":::::{div} full-width\n",
    "::::{grid}\n",
    ":gutter: 3\n",
    "\n",
    ":::{grid-item-card} fsavg-ico32\n",
    "![](figures/inter-vertex_distance_fsavg-ico32.png)\n",
    ":::\n",
    "\n",
    ":::{grid-item-card} fslr-ico32\n",
    "![](figures/inter-vertex_distance_fslr-ico32.png)\n",
    ":::\n",
    "\n",
    ":::{grid-item-card} onavg-ico32\n",
    "![](figures/inter-vertex_distance_onavg-ico32.png)\n",
    ":::\n",
    "\n",
    ":::{grid-item-card} histogram\n",
    "![Inter-vertex distance histogram](figures/inter-vertex_distance_ico32.png)\n",
    ":::\n",
    "\n",
    "::::\n",
    ":::::"
   ]
  },
  {
   "attachments": {},
   "cell_type": "markdown",
   "id": "42e83b26",
   "metadata": {},
   "source": []
  }
 ],
 "metadata": {
  "kernelspec": {
   "display_name": "Python 3",
   "language": "python",
   "name": "python3"
  },
  "language_info": {
   "codemirror_mode": {
    "name": "ipython",
    "version": 3
   },
   "file_extension": ".py",
   "mimetype": "text/x-python",
   "name": "python",
   "nbconvert_exporter": "python",
   "pygments_lexer": "ipython3",
   "version": "3.9.2"
  }
 },
 "nbformat": 4,
 "nbformat_minor": 5
}
