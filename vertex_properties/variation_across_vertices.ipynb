{
 "cells": [
  {
   "attachments": {},
   "cell_type": "markdown",
   "metadata": {},
   "source": [
    "# Variation in vertex properties across the cortex"
   ]
  },
  {
   "attachments": {},
   "cell_type": "markdown",
   "metadata": {},
   "source": [
    "This Notebook shows how to quantify variation in other vertex properties across brain regions, that is, vertex area (the area occupied by each cortical vertex, ``'area'``) and the number of vertices in a 20 mm searchlight (``'sl_count'``).\n",
    "\n",
    "In a densely sampled region, each vertex occupies a smaller area on the cortex, and the number of vertices in a searchlight is larger;\n",
    "in a sparsely sampled region, each vertex occupies a larger area on the cortex, and the number of vertices in a searchlight is smaller.\n",
    "Therefore, larger variation in these properties indicates that the cortex is unevenly sampled in the template space.\n",
    "\n",
    "We will also go through how to visualize these variations in this Notebook."
   ]
  },
  {
   "attachments": {},
   "cell_type": "markdown",
   "metadata": {},
   "source": [
    "## Preparations\n",
    "\n",
    "First we import the packages and set the font type for plotting."
   ]
  },
  {
   "cell_type": "code",
   "execution_count": 38,
   "metadata": {
    "vscode": {
     "languageId": "python"
    }
   },
   "outputs": [],
   "source": [
    "import numpy as np\n",
    "from scipy.interpolate import interp1d\n",
    "import neuroboros as nb\n",
    "import matplotlib.pyplot as plt\n",
    "import matplotlib as mpl\n",
    "import seaborn as sns\n",
    "from IPython.display import display, HTML\n",
    "mpl.rcParams['font.family'] = 'Arial'"
   ]
  },
  {
   "attachments": {},
   "cell_type": "markdown",
   "metadata": {},
   "source": [
    "and we define the same customized color map as in the previous Notebook."
   ]
  },
  {
   "cell_type": "code",
   "execution_count": 3,
   "metadata": {
    "vscode": {
     "languageId": "python"
    }
   },
   "outputs": [],
   "source": [
    "nc = 10\n",
    "colors = np.concatenate(\n",
    "    [sns.color_palette(\"mako\", nc)[1:],\n",
    "     [[0.9, 0.9, 0.9]],\n",
    "     sns.color_palette(\"rocket\", nc)[1:][::-1]],\n",
    "    axis=0)\n",
    "cmap = mpl.colors.LinearSegmentedColormap.from_list('mako_rocket', colors)"
   ]
  },
  {
   "attachments": {},
   "cell_type": "markdown",
   "metadata": {},
   "source": [
    "## Computing vertex properties\n",
    "\n",
    "We compute the vertex properties for each tempalte space and store them in the ``vertex_properties`` dictionary.\n",
    "\n",
    "Inter-vertex distance can be computed in the same way as the previous Notebook."
   ]
  },
  {
   "cell_type": "code",
   "execution_count": 4,
   "metadata": {
    "vscode": {
     "languageId": "python"
    }
   },
   "outputs": [],
   "source": [
    "vertex_properties = {}\n",
    "spaces = ['fsavg-ico32', 'fslr-ico32', 'onavg-ico32']\n",
    "\n",
    "for space in spaces:\n",
    "    ivd = []\n",
    "    for lr in 'lr':\n",
    "        coords, faces = nb.geometry('midthickness', lr, space)\n",
    "        surf = nb.surface.Surface(coords, faces)\n",
    "        neighbors = surf.neighbors\n",
    "        distances = nb.distances(lr, space)\n",
    "        d = []\n",
    "        for i, nbrs in enumerate(neighbors):\n",
    "            d.append(distances[i, nbrs].mean())\n",
    "        d = np.array(d)\n",
    "        ivd.append(d)\n",
    "    vertex_properties['ivd', space] = np.concatenate(ivd)"
   ]
  },
  {
   "attachments": {},
   "cell_type": "markdown",
   "metadata": {},
   "source": [
    "``nb.morphometry`` is a function that loads group-based morphometric measures.\n",
    "\n",
    "\"area.mid\" is the vertex area based on the midthickness surface, which is halfway between the pial surface and the white matter surface (i.e., the middle of the gray matter)."
   ]
  },
  {
   "cell_type": "code",
   "execution_count": 11,
   "metadata": {
    "vscode": {
     "languageId": "python"
    }
   },
   "outputs": [],
   "source": [
    "for space in spaces:\n",
    "    area = [nb.morphometry('area.mid', lr, space) for lr in 'lr']\n",
    "    masks = [nb.mask(lr, space) for lr in 'lr']\n",
    "    vertex_properties['area', space] = np.concatenate(\n",
    "        [_[m] for _, m in zip(area, masks)])"
   ]
  },
  {
   "attachments": {},
   "cell_type": "markdown",
   "metadata": {},
   "source": [
    "``nb.sls`` returns a list, where each entry is a NumPy array comprising the vertex indices for a searchlight center.\n",
    "Therefore, the length of the NumPy array is the number of vertices in the corresponding searchlight."
   ]
  },
  {
   "cell_type": "code",
   "execution_count": null,
   "metadata": {
    "vscode": {
     "languageId": "python"
    }
   },
   "outputs": [],
   "source": [
    "for space in spaces:\n",
    "    counts = []\n",
    "    for lr in 'lr':\n",
    "        sls = nb.sls(lr, 20, space, mask=False)\n",
    "        counts += [len(_) for _ in sls]\n",
    "    vertex_properties['sl_count', space] = np.array(counts)"
   ]
  },
  {
   "attachments": {},
   "cell_type": "markdown",
   "metadata": {},
   "source": [
    "## Standard deviation of vertex properties across the cortex\n",
    "In this part we compute and visualize the standard deviation of the three vertex properties.\n",
    "The standard deviation of these properties have the same units as the original vertex properties, and it is easy to interpret them."
   ]
  },
  {
   "cell_type": "code",
   "execution_count": 50,
   "metadata": {
    "vscode": {
     "languageId": "python"
    }
   },
   "outputs": [],
   "source": [
    "properties = [('ivd', 'Inter-vertex distance (mm)'),\n",
    "              ('sl_count', '# of vertices in a 20 mm searchlight'),\n",
    "              ('area', 'Vertex area (mm$^2$)')]\n",
    "colors = np.array(sns.color_palette('tab10'))\n",
    "for (prop, name) in properties:\n",
    "    fig, ax = plt.subplots(1, 1, figsize=[_/2.54 for _ in (3, 6)])\n",
    "    stds = np.array([np.std(vertex_properties[prop, space])\n",
    "                     for space in spaces])\n",
    "    bars = []\n",
    "    for i, space in enumerate(spaces):\n",
    "        c = colors[i]\n",
    "        b = ax.bar(i, stds[i], color=c, edgecolor=c * 0.5, label=space, linewidth=2)\n",
    "        bars.append(b)\n",
    "    ax.set_xticks([])\n",
    "    ax.set_ylabel(name, size=7, labelpad=2)\n",
    "    fig.subplots_adjust(bottom=0.05, top=0.95, left=0.25, right=0.95)\n",
    "    ax.tick_params(axis='both', which='major', labelsize=5, size=1, pad=1)\n",
    "    plt.savefig(f'figures/std_across_vertices_{prop}.png', dpi=600)\n",
    "    plt.close()"
   ]
  },
  {
   "cell_type": "code",
   "execution_count": 43,
   "metadata": {
    "vscode": {
     "languageId": "python"
    }
   },
   "outputs": [],
   "source": [
    "fig, ax = plt.subplots(1, 1, figsize=[_/2.54 for _ in (3, 6)])\n",
    "ax.legend(bars, spaces, loc='upper center', ncol=1,\n",
    "          fontsize=7, handlelength=4, handleheight=1.4,\n",
    "          labelspacing=1, borderaxespad=6, fancybox=True)\n",
    "ax.axis('off')\n",
    "plt.savefig(f'figures/variation_across_vertices_legend.png', dpi=600)\n",
    "plt.close()"
   ]
  },
  {
   "attachments": {},
   "cell_type": "markdown",
   "metadata": {},
   "source": [
    "### Standard deviation across the cortex (smaller is better)\n",
    "\n",
    "::::{grid}\n",
    ":gutter: 3\n",
    "\n",
    ":::{grid-item-card}\n",
    "![Inter-vertex distance](figures/std_across_vertices_ivd.png)\n",
    ":::\n",
    "\n",
    ":::{grid-item-card}\n",
    "![Vertex area](figures/std_across_vertices_area.png)\n",
    ":::\n",
    "\n",
    ":::{grid-item-card}\n",
    "![Searchlight vertex count](figures/std_across_vertices_sl_count.png)\n",
    ":::\n",
    "\n",
    ":::{grid-item-card}\n",
    "![Legend](figures/variation_across_vertices_legend.png)\n",
    ":::\n",
    "\n",
    "::::"
   ]
  },
  {
   "attachments": {},
   "cell_type": "markdown",
   "metadata": {},
   "source": [
    "## Variance of vertex properties across the cortex"
   ]
  },
  {
   "attachments": {},
   "cell_type": "markdown",
   "metadata": {},
   "source": [
    "If we measure the variation using variance, the difference between template spaces will be larger (squares of those based on standard deviations)."
   ]
  },
  {
   "cell_type": "code",
   "execution_count": 46,
   "metadata": {
    "vscode": {
     "languageId": "python"
    }
   },
   "outputs": [],
   "source": [
    "for (prop, name) in properties:\n",
    "    fig, ax = plt.subplots(1, 1, figsize=[_/2.54 for _ in (3, 6)])\n",
    "    vv = np.array([np.var(vertex_properties[prop, space])\n",
    "                   for space in spaces])\n",
    "    bars = []\n",
    "    for i, space in enumerate(spaces):\n",
    "        c = colors[i]\n",
    "        b = ax.bar(i, vv[i], color=c, edgecolor=c * 0.5, label=space, linewidth=2)\n",
    "        bars.append(b)\n",
    "    ax.set_xticks([])\n",
    "    ax.set_ylabel(name, size=7, labelpad=2)\n",
    "    fig.subplots_adjust(bottom=0.05, top=0.95, left=0.3, right=0.95)\n",
    "    ax.tick_params(axis='both', which='major', labelsize=5, size=1, pad=1)\n",
    "    plt.savefig(f'figures/variance_across_vertices_{prop}.png', dpi=600)\n",
    "    plt.close()"
   ]
  },
  {
   "attachments": {},
   "cell_type": "markdown",
   "metadata": {},
   "source": [
    "### Variance across the cortex (smaller is better)\n",
    "\n",
    "::::{grid}\n",
    ":gutter: 3\n",
    "\n",
    ":::{grid-item-card}\n",
    "![Inter-vertex distance](figures/variance_across_vertices_ivd.png)\n",
    ":::\n",
    "\n",
    ":::{grid-item-card}\n",
    "![Vertex area](figures/variance_across_vertices_area.png)\n",
    ":::\n",
    "\n",
    ":::{grid-item-card}\n",
    "![Searchlight vertex count](figures/variance_across_vertices_sl_count.png)\n",
    ":::\n",
    "\n",
    ":::{grid-item-card}\n",
    "![Legend](figures/variation_across_vertices_legend.png)\n",
    ":::\n",
    "\n",
    "::::"
   ]
  },
  {
   "attachments": {},
   "cell_type": "markdown",
   "metadata": {},
   "source": [
    "### Ratios of the variances"
   ]
  },
  {
   "cell_type": "code",
   "execution_count": 42,
   "metadata": {
    "vscode": {
     "languageId": "python"
    }
   },
   "outputs": [
    {
     "data": {
      "text/html": [
       "<p>The variance in Inter-vertex distance for the onavg template is 8.35% and 7.90% compared to those for fsavg and fslr, respectively.</p>"
      ],
      "text/plain": [
       "<IPython.core.display.HTML object>"
      ]
     },
     "metadata": {},
     "output_type": "display_data"
    },
    {
     "data": {
      "text/html": [
       "<p>The variance in # of vertices in a 20 mm searchlight for the onavg template is 4.73% and 4.39% compared to those for fsavg and fslr, respectively.</p>"
      ],
      "text/plain": [
       "<IPython.core.display.HTML object>"
      ]
     },
     "metadata": {},
     "output_type": "display_data"
    },
    {
     "data": {
      "text/html": [
       "<p>The variance in Vertex area for the onavg template is 4.63% and 4.47% compared to those for fsavg and fslr, respectively.</p>"
      ],
      "text/plain": [
       "<IPython.core.display.HTML object>"
      ]
     },
     "metadata": {},
     "output_type": "display_data"
    }
   ],
   "source": [
    "for (prop, name) in properties:\n",
    "    vv = np.array([np.var(vertex_properties[prop, space])\n",
    "                   for space in spaces])\n",
    "    r1, r2 = vv[2] / vv[:2] * 100 # ratios as percentages\n",
    "    name = name.split(' (')[0].lower()\n",
    "    display(HTML(\n",
    "        f'<p>The variance in {name} for the onavg template is {r1:.2f}% and '\n",
    "        f'{r2:.2f}% compared to those for fsavg and fslr, respectively.</p>'))"
   ]
  },
  {
   "attachments": {},
   "cell_type": "markdown",
   "metadata": {},
   "source": [
    "## Distribution of vertex properties\n",
    "\n",
    "In this part, we visualize the statistical distribution of the three representative vertex properties using histograms.\n",
    "We use a logrithmic scale for vertex area and searchlight vertex count, so that the distribution will look more \"normal\" (square root scale might work, too)."
   ]
  },
  {
   "cell_type": "code",
   "execution_count": 30,
   "metadata": {
    "vscode": {
     "languageId": "python"
    }
   },
   "outputs": [],
   "source": [
    "for (prop, name) in properties[1:]:\n",
    "    data_dict = {space: np.log(vertex_properties[prop, space])\n",
    "                 for space in spaces}\n",
    "    mean = data_dict[f'onavg-ico32'].mean()\n",
    "    factor = {'sl_count': 1.5, 'area': 2}[prop] * np.log(2)\n",
    "    vmin, vmax = mean - factor, mean + factor\n",
    "    ticks = np.linspace(0, 1, 7) * (vmax - vmin) + vmin\n",
    "\n",
    "    norm = mpl.colors.Normalize(vmin=vmin, vmax=vmax, clip=True)\n",
    "    lim = [vmin, vmax]\n",
    "    fig = plt.figure(figsize=(4.5/2.54, 4.2/2.54), dpi=600)\n",
    "\n",
    "\n",
    "    for i, space in enumerate(spaces):\n",
    "        d = data_dict[space]\n",
    "        y = [0.85, 0.7, 0.3][i]\n",
    "        ax = fig.add_axes([0.05, y, 0.9, 0.2])\n",
    "        bins = np.linspace(lim[0], lim[1], 81)\n",
    "        for k in ['left', 'right', 'top']:\n",
    "            ax.spines[k].set_visible(False)\n",
    "        ax.set_yticks([])\n",
    "        ax.set_xticks([])\n",
    "        amplitudes, _, patches = ax.hist(\n",
    "            d, bins, orientation='vertical', density=True, clip_on=False)\n",
    "        for i, p in enumerate(patches):\n",
    "            v = bins[[i, i+1]].mean()\n",
    "            c = cmap(norm(v))\n",
    "            p.set_facecolor(c)\n",
    "        ax.set_xlim(lim)\n",
    "        ax.set_ylim([0, {'sl_count': 4.5, 'area': 3}[prop]])\n",
    "        ax.set_facecolor([1.0, 1.0, 1.0, 0.0])\n",
    "        ax.annotate(space, (0.05, y+0.09), xycoords='figure fraction', size=7,\n",
    "                va='top', ha='left')\n",
    "\n",
    "    ax2 = fig.add_axes([0.05, 0.14, 0.9, 0.05])\n",
    "    v = np.linspace(vmin, vmax, 10001)\n",
    "    c = cmap(norm(v))\n",
    "\n",
    "    ax2.imshow(c[np.newaxis], extent=[0, 1, 0, 1])\n",
    "    ax2.set_xlim([0, 1])\n",
    "    ax2.set_ylim([0, 1])\n",
    "    ax2.set_yticks([])\n",
    "    ax2.set_xticks(interp1d(lim, [0, 1], axis=0)(ticks))\n",
    "    if prop == 'sl_count':\n",
    "        ax2.set_xticklabels([f'{np.exp(_):.0f}' for _ in ticks], size=5)\n",
    "    else:\n",
    "        ax2.set_xticklabels([f'{np.exp(_):.1f}' for _ in ticks], size=5)\n",
    "    ax2.set_xlabel(name, size=7, labelpad=0)\n",
    "    ax2.set_aspect('auto')\n",
    "    ax2.tick_params(axis='both', pad=1, length=3, labelsize=6)\n",
    "\n",
    "    annots = [(0.04, 'less', 'left'), (0.5, 'better', 'center'),\n",
    "            (0.96, 'more', 'right')]\n",
    "    for x, txt, ha in annots:\n",
    "        ax2.annotate(txt, (x, 0.21), xycoords='figure fraction', size=7, ha=ha)\n",
    "\n",
    "    plt.savefig(f'figures/histogram_{prop}_ico32.png', dpi=600)\n",
    "    plt.close()"
   ]
  },
  {
   "attachments": {},
   "cell_type": "markdown",
   "metadata": {},
   "source": [
    ":::::{div} full-width\n",
    "::::{grid}\n",
    ":gutter: 3\n",
    "\n",
    ":::{grid-item-card} Inter-vertex distance\n",
    "![Inter-vertex distance](figures/inter-vertex_distance_ico32.png)\n",
    ":::\n",
    "\n",
    ":::{grid-item-card} Vertex area\n",
    "![Vertex area](figures/histogram_area_ico32.png)\n",
    ":::\n",
    "\n",
    ":::{grid-item-card} Searchlight vertex count\n",
    "![Searchlight vertex count](figures/histogram_sl_count_ico32.png)\n",
    ":::\n",
    "\n",
    "::::\n",
    ":::::"
   ]
  },
  {
   "attachments": {},
   "cell_type": "markdown",
   "metadata": {},
   "source": []
  }
 ],
 "metadata": {
  "kernelspec": {
   "display_name": "Python 3",
   "language": "python",
   "name": "python3"
  },
  "orig_nbformat": 4
 },
 "nbformat": 4,
 "nbformat_minor": 2
}
