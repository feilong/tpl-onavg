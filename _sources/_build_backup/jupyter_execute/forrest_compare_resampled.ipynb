{
 "cells": [
  {
   "attachments": {},
   "cell_type": "markdown",
   "id": "dd04927c",
   "metadata": {},
   "source": [
    "# (Optional) Compare resampled data\n",
    "\n",
    "In this Notebook, we compare the resampled data (a) between different runs of FreeSurfer, and (b) between FreeSurfer and Python.\n",
    "\n",
    "The resampled data are very close in these comparisons."
   ]
  },
  {
   "cell_type": "code",
   "execution_count": 1,
   "id": "e4b1fe3e",
   "metadata": {},
   "outputs": [],
   "source": [
    "import os\n",
    "import numpy as np\n",
    "import nibabel as nib\n",
    "from glob import glob\n",
    "from scipy.stats import zscore\n",
    "import tarfile\n",
    "import neuroboros as nb"
   ]
  },
  {
   "cell_type": "code",
   "execution_count": 2,
   "id": "f9e86b69",
   "metadata": {},
   "outputs": [],
   "source": [
    "tmp_dir = '/dev/shm/forrest_tmp'\n",
    "os.makedirs(tmp_dir, exist_ok=True)"
   ]
  },
  {
   "attachments": {},
   "cell_type": "markdown",
   "id": "cd8e5e37",
   "metadata": {},
   "source": [
    "First we compare the data resampled by fMRIPrep (`d1`) and by running `mri_vol2surf` directly (`d2`), both using the same version of FreeSurfer.\n",
    "\n",
    "The correlation between the time series of the same vertex is very high (>0.9999).\n",
    "The small differences might be caused by different hardware/software (e.g., different nodes of the same HPC cluster), and/or different order of operations (float number operations are not fully commutative)."
   ]
  },
  {
   "cell_type": "code",
   "execution_count": 3,
   "id": "4242c83b",
   "metadata": {},
   "outputs": [
    {
     "name": "stdout",
     "output_type": "stream",
     "text": [
      "518\n"
     ]
    }
   ],
   "source": [
    "root = os.path.expanduser('~/lab/nb-data/forrest/20.2.7/resampled')\n",
    "tar_fns = sorted(glob(os.path.expanduser('~/lab/nb-data-archive/forrest/20.2.7/fmriprep/*.tar.lzma')))\n",
    "\n",
    "count = 0\n",
    "for tar_fn in tar_fns:\n",
    "    with tarfile.open(tar_fn) as tf:\n",
    "        members = tf.getmembers()\n",
    "        \n",
    "        for mb in members:\n",
    "            if not mb.path.endswith('gii') or 'func' not in mb.path:\n",
    "                continue\n",
    "            tmp_fn = os.path.join(tmp_dir, os.path.basename(mb.path))\n",
    "\n",
    "            with tf.extractfile(mb) as f_in, open(tmp_fn, 'wb') as f_out:\n",
    "                f_out.write(f_in.read())\n",
    "\n",
    "            a, b = os.path.basename(mb.path).split('_space-fsaverage5_')\n",
    "            lr = b.split('hemi-')[1][0].lower()\n",
    "            fn = f'{root}/fsavg-ico32/{lr}-cerebrum/2step_freesurfer6/{a}.gii'\n",
    "\n",
    "            d1 = np.stack([_.data for _ in nib.load(tmp_fn).darrays], axis=0)\n",
    "            d2 = np.stack([_.data for _ in nib.load(fn).darrays], axis=0)\n",
    "\n",
    "            r = np.mean(zscore(d1, axis=0) * zscore(d2, axis=0), axis=0)\n",
    "            assert np.all(r[np.isfinite(r)]) > 0.9999\n",
    "            count += 1\n",
    "\n",
    "            os.remove(tmp_fn)\n",
    "print(count)"
   ]
  },
  {
   "attachments": {},
   "cell_type": "markdown",
   "id": "c1195cff",
   "metadata": {},
   "source": [
    "In this part, we compare the resampled data based on FreeSurfer 7.2 (`d1`), FreeSurfer 6 (`d2`), and Python (`d3` and `d4`).\n",
    "\n",
    "Note that different versions of FreeSurfer use different ways to compute vertex normals from face normals.\n",
    "The two Python implementations (\"normals-equal\" and \"normals-sine\") behave similarly to FreeSurfer 7.2 and 6, respectively.\n",
    "Therefore, we expect `d1` and `d3` to resemble each other, and `d2` and `d4` to resemble each other.\n",
    "\n",
    "Different implementations (Python and FreeSurfer) of the same method also generate similar resampled data, as indicated by the high correlations of the corresponding time series."
   ]
  },
  {
   "cell_type": "code",
   "execution_count": 12,
   "id": "f514efc1",
   "metadata": {
    "scrolled": false
   },
   "outputs": [],
   "source": [
    "fns = []\n",
    "for space in ['fsavg-ico32', 'onavg-ico32']:\n",
    "    fns += sorted(glob(f'{root}/{space}/*-cerebrum/2step_freesurfer7.2/*.gii'))\n",
    "\n",
    "mats = []\n",
    "count = 0\n",
    "for fn1 in fns:\n",
    "    d1 = np.stack([_.data for _ in nib.load(fn1).darrays], axis=0)\n",
    "    fn2 = fn1.replace('2step_freesurfer7.2', '2step_freesurfer6')\n",
    "    d2 = np.stack([_.data for _ in nib.load(fn2).darrays], axis=0)\n",
    "    d3 = np.load(fn1.replace('2step_freesurfer7.2', '2step_normals-equal_nnfr')[:-4] + '.npy')\n",
    "    d4 = np.load(fn1.replace('2step_freesurfer7.2', '2step_normals-sine_nnfr')[:-4] + '.npy')\n",
    "    dd = [d1, d2, d3, d4]\n",
    "\n",
    "    mat = np.zeros((4, 4))\n",
    "    for i, a in enumerate(dd):\n",
    "        for j, b in enumerate(dd):\n",
    "            if i <= j:\n",
    "                continue\n",
    "            v = np.sum((a - b)**2)\n",
    "            mat[i, j] = v\n",
    "            mat[j, i] = v\n",
    "    mats.append(mat)\n",
    "    count += np.prod(a.shape)\n",
    "\n",
    "    r13 = np.mean(zscore(d1, axis=0) * zscore(d3, axis=0), axis=0)\n",
    "    r24 = np.mean(zscore(d2, axis=0) * zscore(d4, axis=0), axis=0)\n",
    "    for r in [r13, r24]:\n",
    "        mask = np.isnan(r)\n",
    "        if np.any(mask):\n",
    "            assert mask.mean() < 0.01\n",
    "            r[mask] = 1.\n",
    "        np.testing.assert_array_less(0.99, r)"
   ]
  },
  {
   "cell_type": "code",
   "execution_count": 13,
   "id": "9571dad9",
   "metadata": {},
   "outputs": [
    {
     "data": {
      "text/plain": [
       "array([[0.    , 0.0124, 0.0001, 0.0126],\n",
       "       [0.0124, 0.    , 0.0126, 0.0001],\n",
       "       [0.0001, 0.0126, 0.    , 0.0124],\n",
       "       [0.0126, 0.0001, 0.0124, 0.    ]])"
      ]
     },
     "execution_count": 13,
     "metadata": {},
     "output_type": "execute_result"
    }
   ],
   "source": [
    "np.sum(mats, axis=0) / count"
   ]
  },
  {
   "cell_type": "code",
   "execution_count": null,
   "id": "3b3c9ddd",
   "metadata": {},
   "outputs": [],
   "source": []
  }
 ],
 "metadata": {
  "kernelspec": {
   "display_name": "Python 3 (ipykernel)",
   "language": "python",
   "name": "python3"
  },
  "language_info": {
   "codemirror_mode": {
    "name": "ipython",
    "version": 3
   },
   "file_extension": ".py",
   "mimetype": "text/x-python",
   "name": "python",
   "nbconvert_exporter": "python",
   "pygments_lexer": "ipython3",
   "version": "3.8.12"
  }
 },
 "nbformat": 4,
 "nbformat_minor": 5
}