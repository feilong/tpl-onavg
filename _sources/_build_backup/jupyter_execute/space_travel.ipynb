{
 "cells": [
  {
   "cell_type": "markdown",
   "id": "f04a9200-4706-440f-aaf8-16ebd626250a",
   "metadata": {},
   "source": [
    "# Transform data to onavg space"
   ]
  },
  {
   "cell_type": "markdown",
   "id": "500b0c6a-35d3-4487-a766-0f4d6eaa9ad6",
   "metadata": {},
   "source": [
    "In this Jupyter Notebook we demonstrate how to transform data between other surface template spaces and the `onavg` template space using the `neuroboros` package."
   ]
  },
  {
   "cell_type": "code",
   "execution_count": null,
   "id": "bf6d7443-ad7e-4fac-a4f4-9ddbb4fdde3b",
   "metadata": {},
   "outputs": [],
   "source": [
    "import os\n",
    "import numpy as np\n",
    "import neuroboros as nb\n",
    "import matplotlib.pyplot as plt\n",
    "from scipy.stats import pearsonr, zscore"
   ]
  },
  {
   "cell_type": "markdown",
   "id": "229aac01-ad1f-4061-a96e-516c35f02030",
   "metadata": {},
   "source": [
    "In the examples below, we will use data in the fsaverage template space with ico64 resolution (`fsavg-ico64`, also known as fsaverage6) and transform it to the `onavg` template space with ico32 resolution (`onavg-ico32`). This process is also called resampling.\n",
    "\n",
    "The code can be easily modified (by changing the `source` and `target` parameters in `nb.mapping`) to transform data from and to other spaces."
   ]
  },
  {
   "cell_type": "markdown",
   "id": "cc86fdef-986e-4195-aa97-2f997c677441",
   "metadata": {},
   "source": [
    "## Inter-subject correlation"
   ]
  },
  {
   "cell_type": "markdown",
   "id": "d26d87b4-e4b5-4155-b94f-6d2b68c0f61a",
   "metadata": {},
   "source": [
    "In the first example, the data to be transformed is inter-subject correlation (ISC) of response time series to the movie _Forrest Gump_ (3T fMRI data of the [StudyForrest](https://www.studyforrest.org/) dataset).\n",
    "\n",
    "We compute the correlation between the test subject's time series and the average of other subjects' time series for each vertex, to obtain a correlation map per test subject (leave–one-subject-out).\n",
    "The correlation maps are then averaged across subjects, yielding a single average correlation map."
   ]
  },
  {
   "cell_type": "code",
   "execution_count": null,
   "id": "e0581757-5b02-4776-9d45-e24c790aac6f",
   "metadata": {},
   "outputs": [],
   "source": [
    "for space in ['fsavg-ico64', 'onavg-ico32']:\n",
    "    cache_fn = f'isc_{space}.pkl'\n",
    "    if not os.path.exists(cache_fn):\n",
    "        dset = nb.Forrest()\n",
    "        sids = dset.subjects\n",
    "        isc_fsavg = []\n",
    "        for lr in 'lr':\n",
    "            dms = np.stack([\n",
    "                dset.get_data(sid, 'forrest', 1, lr, space)\n",
    "                for sid in sids])\n",
    "            isc = []\n",
    "            for i, dm in enumerate(dms):\n",
    "                pred = np.delete(dms, i, axis=0).mean(axis=0)\n",
    "                r = np.mean(zscore(dm, axis=0) * zscore(pred, axis=0), axis=0)\n",
    "                isc.append(r)\n",
    "            isc_fsavg.append(np.nanmean(isc, axis=0))\n",
    "        nb.save(cache_fn, isc_fsavg)\n",
    "isc_fsavg = nb.load(f'isc_fsavg-ico64.pkl')"
   ]
  },
  {
   "cell_type": "markdown",
   "id": "932b1e1b-fe8a-4885-8852-9728f50e0352",
   "metadata": {},
   "source": [
    "`isc_fsavg` is a list of two NumPy arrays, which are the ISCs for the left and right hemispheres, respectively."
   ]
  },
  {
   "cell_type": "code",
   "execution_count": null,
   "id": "bbb7fab8-3aee-4560-bc9f-a27491941c0b",
   "metadata": {},
   "outputs": [],
   "source": [
    "print([_.shape for _ in isc_fsavg])"
   ]
  },
  {
   "cell_type": "code",
   "execution_count": null,
   "id": "ead87bb4-309f-4fea-ba68-97c0d7f4422d",
   "metadata": {},
   "outputs": [],
   "source": [
    "xfms1 = [\n",
    "    nb.mapping(lr, 'fsavg-ico64', 'onavg-ico32', mask=True, keep_sum=False)\n",
    "    for lr in 'lr']"
   ]
  },
  {
   "cell_type": "markdown",
   "id": "4fb311b2-c153-4a25-af00-451aa737546f",
   "metadata": {},
   "source": [
    "`xfms1` is a list of two sparse matrices, which are the transformations for the left and right hemispheres, respectively."
   ]
  },
  {
   "cell_type": "code",
   "execution_count": null,
   "id": "f291bba3-2ee7-4014-8de5-1cb3d664819b",
   "metadata": {},
   "outputs": [],
   "source": [
    "print(len(xfms1))\n",
    "for xfm in xfms1:\n",
    "    print(type(xfm), xfm.shape, xfm.data.shape)"
   ]
  },
  {
   "cell_type": "markdown",
   "id": "b7ae16d3-a790-4040-8759-e63878a38296",
   "metadata": {},
   "source": [
    "By applying `xfms1` to `isc_fsavg`, we obtain the transformed data, which are in the `onavg-ico32` space."
   ]
  },
  {
   "cell_type": "code",
   "execution_count": null,
   "id": "f3a43105-7f0b-450a-8a05-d7973bcb2878",
   "metadata": {
    "editable": true,
    "slideshow": {
     "slide_type": ""
    },
    "tags": []
   },
   "outputs": [],
   "source": [
    "isc_t1 = [isc @ xfm for isc, xfm in zip(isc_fsavg, xfms1)]"
   ]
  },
  {
   "cell_type": "code",
   "execution_count": null,
   "id": "20b4fdbe-7bda-4d64-a06e-3377c6e8e669",
   "metadata": {},
   "outputs": [],
   "source": [
    "print([_.shape for _ in isc_t1])"
   ]
  },
  {
   "cell_type": "code",
   "execution_count": null,
   "id": "f33b871b-07b4-4eed-b228-17dfc71da75b",
   "metadata": {
    "editable": true,
    "slideshow": {
     "slide_type": ""
    },
    "tags": [
     "hide-output"
    ]
   },
   "outputs": [],
   "source": [
    "kwargs = dict(vmax=1, vmin=-1, width=400, cmap='bwr')\n",
    "nb.plot(isc_fsavg, title='ISC (fsavg-ico64)',\n",
    "        fn='figures/space_travel_ISC_fsavg.png', **kwargs)"
   ]
  },
  {
   "cell_type": "code",
   "execution_count": null,
   "id": "f6cfc099-0dd8-40f6-81b7-f62ecd320825",
   "metadata": {
    "editable": true,
    "slideshow": {
     "slide_type": ""
    },
    "tags": [
     "hide-output"
    ]
   },
   "outputs": [],
   "source": [
    "nb.plot(isc_t1, title='ISC (transformed w/ \"keep_sum=False\")',\n",
    "        fn='figures/space_travel_ISC_t1.png', **kwargs)"
   ]
  },
  {
   "cell_type": "markdown",
   "id": "14dee56c-6674-402b-82c2-863c322dbf35",
   "metadata": {
    "editable": true,
    "slideshow": {
     "slide_type": ""
    },
    "tags": []
   },
   "source": [
    "::::{grid}\n",
    "\n",
    ":::{grid-item}\n",
    "![](figures/space_travel_ISC_fsavg.png)\n",
    ":::\n",
    "\n",
    ":::{grid-item}\n",
    "![](figures/space_travel_ISC_t1.png)\n",
    ":::\n",
    "\n",
    "::::"
   ]
  },
  {
   "cell_type": "markdown",
   "id": "5c00518d-7dd3-4f5b-b794-333fa1fbd367",
   "metadata": {
    "editable": true,
    "slideshow": {
     "slide_type": ""
    },
    "tags": []
   },
   "source": [
    "The transformed ISCs are very close to those computed directly using data in the `onavg-ico32` space."
   ]
  },
  {
   "cell_type": "code",
   "execution_count": null,
   "id": "5d1641f1-f974-484e-b325-885e1b4dd6d3",
   "metadata": {},
   "outputs": [],
   "source": [
    "isc_onavg = nb.load(f'isc_onavg-ico32.pkl')\n",
    "print(pearsonr(np.concatenate(isc_onavg), np.concatenate(isc_t1)))"
   ]
  },
  {
   "cell_type": "markdown",
   "id": "181b51ed-f49d-4590-aad5-02cea4fd9c51",
   "metadata": {},
   "source": [
    "## Vertex area"
   ]
  },
  {
   "cell_type": "markdown",
   "id": "415f110b-4134-42cf-bc20-179410e417e2",
   "metadata": {},
   "source": [
    "Mathematically, transforming data between different spaces is a matrix multiplication:\n",
    "$$Y = X T$$\n",
    "If the input data has $n$ vertices and the output data has $m$ vertices, $X$ is a row vector of $1 \\times n$ elements, $Y$ is a row vector of $1 \\times m$ elements, and $T$ is an $n \\times m$ matrix.\n",
    "\n",
    "In other words, each element in $Y$ is a weighted sum of the elements in $X$\n",
    "$$Y_j = \\sum_{i=1}^{n}X_i T_{i,j}$$\n",
    "\n",
    "By default `nb.mapping` will normalize the columns of $T$, so that the sum of each column equals one. That is,\n",
    "$$\\sum_{i=1}^{n}T_{i,j} = 1, \\text{for } j = 1 \\ldots m$$\n",
    "\n",
    "With this, the sum of the weights for the weighted sum equals one, and the scale of **each element** in $Y$ is comparable to the scale of **each element** in $X$.\n",
    "This is appropriate for resampling statistics, such as the ISC example above.\n",
    "\n",
    "When resample some quantitative measures, such as cortical area or volume, it is more appropriate to keep the total quantity constant, that is, making the **sum of all elements** in $Y$ the same as the **sum of all elements** in $X$.\n",
    "To achieve this goal, the rows of $T$ are normalized to have unit sum instead of the columns.\n",
    "\n",
    "This can be done by setting the parameter `keep_sum=True` when using `nb.mapping`."
   ]
  },
  {
   "cell_type": "code",
   "execution_count": null,
   "id": "cf5b1002-1f74-4d32-a8b9-54c123ee8777",
   "metadata": {
    "editable": true,
    "slideshow": {
     "slide_type": ""
    },
    "tags": []
   },
   "outputs": [],
   "source": [
    "area_fsavg = [\n",
    "    nb.morphometry('area', lr, space='fsavg-ico64')[nb.mask(lr, 'fsavg-ico64')]\n",
    "    for lr in 'lr']"
   ]
  },
  {
   "cell_type": "code",
   "execution_count": null,
   "id": "70999bfd-8b4b-4eed-89d4-259215a067bf",
   "metadata": {
    "editable": true,
    "slideshow": {
     "slide_type": ""
    },
    "tags": []
   },
   "outputs": [],
   "source": [
    "xfms2 = [nb.mapping(lr, 'fsavg-ico64', 'onavg-ico32', mask=True, keep_sum=True)\n",
    "         for lr in 'lr']\n",
    "area_t2 = [a @ xfm for a, xfm in zip(area_fsavg, xfms2)]"
   ]
  },
  {
   "cell_type": "markdown",
   "id": "6d352b6a-5f25-402b-b448-2ffbfff4aec5",
   "metadata": {},
   "source": [
    "After resampling with `keep_sum=True`, the average vertex area is approximately 4x as large (due to the change in data resolution), whereas the sum of vertex area is approximately the same."
   ]
  },
  {
   "cell_type": "code",
   "execution_count": null,
   "id": "194e0224-fdea-4a67-bcc6-bbecfa50f7d1",
   "metadata": {
    "editable": true,
    "slideshow": {
     "slide_type": ""
    },
    "tags": []
   },
   "outputs": [],
   "source": [
    "for area in [area_fsavg, area_t2]:\n",
    "    area = np.concatenate(area)\n",
    "    print(f'{area.shape[0]} vertices, mean = {area.mean():.2f} mm^2, sum = {area.sum():.2e} mm^2')"
   ]
  },
  {
   "cell_type": "markdown",
   "id": "ae60b2d3-06bf-423b-9bd0-744095ac2830",
   "metadata": {},
   "source": [
    "## Comparing resampling methods for ISC"
   ]
  },
  {
   "cell_type": "markdown",
   "id": "e60ddfe9-ea8e-41f7-aff5-2e89d960ac91",
   "metadata": {},
   "source": [
    "When resampling statistics, it is necessary to keep the default `keep_sum=False`.\n",
    "Otherwise, the scale of individual values in resampled data can be very different from that of the original data.\n",
    "\n",
    "For example, when resampling inter-subject correlation, with `keep_sum=True` the resampled values can be larger than one, which does not make sense, as correlation coefficients should be no larger than one."
   ]
  },
  {
   "cell_type": "code",
   "execution_count": null,
   "id": "fbbac274-7b46-48b3-ad3b-cd642a802660",
   "metadata": {
    "editable": true,
    "slideshow": {
     "slide_type": ""
    },
    "tags": []
   },
   "outputs": [],
   "source": [
    "isc_t2 = [isc @ xfm for isc, xfm in zip(isc_fsavg, xfms2)]\n",
    "isc_data = [isc_fsavg, isc_t1, isc_t2, isc_onavg]\n",
    "labels = ['fsavg-ico64',\n",
    "          'mapped to onavg-ico32, \"keep_sum=False\"',\n",
    "          'mapped to onavg-ico32, \"keep_sum=True\"',\n",
    "          'onavg-ico32']"
   ]
  },
  {
   "cell_type": "code",
   "execution_count": null,
   "id": "6994e0a7-7ba7-402a-a4e0-c0d810afb56b",
   "metadata": {
    "editable": true,
    "slideshow": {
     "slide_type": ""
    },
    "tags": [
     "hide-output"
    ]
   },
   "outputs": [],
   "source": [
    "fig, axs = plt.subplots(4, 1, figsize=[_/2.54 for _ in [8, 4]],\n",
    "                        sharex=True, dpi=200)\n",
    "for i, ax in enumerate(axs):\n",
    "    d, label = np.concatenate(isc_data[i]), labels[i]\n",
    "    bins = np.linspace(0, 2, 201)\n",
    "    ax.hist(d, bins)\n",
    "    ax.set_xlim([bins[0], bins[-1]])\n",
    "    ax.annotate(f'{label}\\nmax={d.max():.2f}, sum={d.sum():.2f}', (0.25, 0.95),\n",
    "                xycoords='axes fraction', size=5, va='top', ha='left')\n",
    "    ax.tick_params(size=2, pad=1, labelsize=4)\n",
    "ax.set_xlabel('Inter-subject correlation', size=5, labelpad=1)\n",
    "fig.subplots_adjust(left=0.08, right=0.98, top=0.97, bottom=0.12)\n",
    "plt.savefig('figures/space_travel_hist_ISC.png', dpi=300, transparent=True)\n",
    "plt.show()"
   ]
  },
  {
   "cell_type": "markdown",
   "id": "acaddde9-016a-405d-9b29-7b639ae2549d",
   "metadata": {
    "editable": true,
    "slideshow": {
     "slide_type": ""
    },
    "tags": []
   },
   "source": [
    "![](figures/space_travel_hist_ISC.png)"
   ]
  },
  {
   "cell_type": "code",
   "execution_count": null,
   "id": "193db1b5-b95c-4c6a-830e-9e35f02a72c1",
   "metadata": {
    "editable": true,
    "slideshow": {
     "slide_type": ""
    },
    "tags": [
     "hide-output"
    ]
   },
   "outputs": [],
   "source": [
    "nb.plot(isc_t2, title='ISC (transformed w/ \"keep_sum=True\")', fn='figures/space_travel_ISC_t2.png', **kwargs)\n",
    "nb.plot(isc_onavg, title='ISC (onavg-ico32)', fn='figures/space_travel_ISC_onavg.png', **kwargs)"
   ]
  },
  {
   "cell_type": "markdown",
   "id": "bf7a9dd6-16a4-4900-9b03-0b8b8e9c9191",
   "metadata": {
    "editable": true,
    "slideshow": {
     "slide_type": ""
    },
    "tags": []
   },
   "source": [
    "::::{grid}\n",
    "\n",
    ":::{grid-item}\n",
    "![](figures/space_travel_ISC_fsavg.png)\n",
    ":::\n",
    "\n",
    ":::{grid-item}\n",
    "![](figures/space_travel_ISC_t1.png)\n",
    ":::\n",
    "\n",
    ":::{grid-item}\n",
    "![](figures/space_travel_ISC_t2.png)\n",
    ":::\n",
    "\n",
    ":::{grid-item}\n",
    "![](figures/space_travel_ISC_onavg.png)\n",
    ":::\n",
    "\n",
    "::::"
   ]
  },
  {
   "cell_type": "markdown",
   "id": "10dbb854-7892-4d4b-9ee2-9d8e23cb47b6",
   "metadata": {
    "editable": true,
    "slideshow": {
     "slide_type": ""
    },
    "tags": []
   },
   "source": [
    "## Comparing resampling methods for vertex area"
   ]
  },
  {
   "cell_type": "markdown",
   "id": "3502dca6-1287-4a0c-8463-bfeeb5e36629",
   "metadata": {},
   "source": [
    "When resampling quantitative measures, it is necessary to use `keep_sum=True`.\n",
    "Otherwise, the total amount of the quantity can be very different from that of the original data.\n",
    "\n",
    "For example, when resampling vertex area, with `keep_sum=False` the sum of vertex area is much smaller than that of the original data."
   ]
  },
  {
   "cell_type": "code",
   "execution_count": null,
   "id": "d48aafed-445a-45a7-9022-8e451d87508b",
   "metadata": {
    "editable": true,
    "slideshow": {
     "slide_type": ""
    },
    "tags": []
   },
   "outputs": [],
   "source": [
    "area_onavg = [\n",
    "    nb.morphometry('area', lr, space='onavg-ico32')[nb.mask(lr, 'onavg-ico32')]\n",
    "    for lr in 'lr']\n",
    "area_t1 = [a @ xfm for a, xfm in zip(area_fsavg, xfms1)]\n",
    "area_data = [area_fsavg, area_t1, area_t2, area_onavg]"
   ]
  },
  {
   "cell_type": "code",
   "execution_count": null,
   "id": "1a05a76d-66c5-4e5f-bab1-cb344a0265bd",
   "metadata": {
    "editable": true,
    "slideshow": {
     "slide_type": ""
    },
    "tags": [
     "hide-output"
    ]
   },
   "outputs": [],
   "source": [
    "fig, axs = plt.subplots(4, 1, figsize=[_/2.54 for _ in [8, 4]],\n",
    "                        sharex=True, dpi=200)\n",
    "for i, ax in enumerate(axs):\n",
    "    d, label = np.concatenate(area_data[i]), labels[i]\n",
    "    bins = np.linspace(0, 12, 201)\n",
    "    ax.hist(d, bins)\n",
    "    ax.set_xlim([bins[0], bins[-1]])\n",
    "    ax.annotate(f'{label}\\nmax={d.max():.2f}, sum={d.sum():.2e}', ([0.35, 0.01][i>1], 0.95),\n",
    "                xycoords='axes fraction', size=5, va='top', ha='left')\n",
    "    ax.tick_params(size=2, pad=1, labelsize=4)\n",
    "ax.set_xlabel('Vertex area (mm$^2$)', size=5, labelpad=1)\n",
    "fig.subplots_adjust(left=0.08, right=0.98, top=0.97, bottom=0.12)\n",
    "plt.savefig('figures/space_travel_hist_area.png', dpi=300, transparent=True)\n",
    "plt.show()"
   ]
  },
  {
   "cell_type": "markdown",
   "id": "3c9fd635-8979-4b60-bae8-91fcbf6ad50a",
   "metadata": {
    "editable": true,
    "slideshow": {
     "slide_type": ""
    },
    "tags": []
   },
   "source": [
    "![](figures/space_travel_hist_area.png)"
   ]
  },
  {
   "cell_type": "code",
   "execution_count": null,
   "id": "0dc13156-5895-4eb6-afef-636e8896aeff",
   "metadata": {
    "editable": true,
    "slideshow": {
     "slide_type": ""
    },
    "tags": []
   },
   "outputs": [],
   "source": [
    "kwargs2 = {'vmin': 0, 'vmax': 12, 'cmap': 'viridis', 'width': 400}\n",
    "nb.plot(area_fsavg, title='Vertex area (fsavg-ico64)', fn='figures/space_travel_area_fsavg.png', **kwargs2)\n",
    "nb.plot(area_t1, title='Vertex area (transformed w/ \"keep_sum=False\")', fn='figures/space_travel_area_t1.png', **kwargs2)\n",
    "nb.plot(area_t2, title='Vertex area (transformed w/ \"keep_sum=True\")', fn='figures/space_travel_area_t2.png', **kwargs2)\n",
    "nb.plot(area_onavg, title='Vertex area (onavg-ico32)', fn='figures/space_travel_area_onavg.png', **kwargs2)"
   ]
  },
  {
   "cell_type": "markdown",
   "id": "4d4c9e85-75f9-4db4-824f-c0a53a4757ce",
   "metadata": {
    "editable": true,
    "slideshow": {
     "slide_type": ""
    },
    "tags": []
   },
   "source": [
    "::::{grid}\n",
    "\n",
    ":::{grid-item}\n",
    "![](figures/space_travel_area_fsavg.png)\n",
    ":::\n",
    "\n",
    ":::{grid-item}\n",
    "![](figures/space_travel_area_t1.png)\n",
    ":::\n",
    "\n",
    ":::{grid-item}\n",
    "![](figures/space_travel_area_t2.png)\n",
    ":::\n",
    "\n",
    ":::{grid-item}\n",
    "![](figures/space_travel_area_onavg.png)\n",
    ":::\n",
    "\n",
    "::::"
   ]
  },
  {
   "cell_type": "markdown",
   "id": "7062497b-98e5-42b2-863d-2c57d9c5defb",
   "metadata": {
    "editable": true,
    "slideshow": {
     "slide_type": ""
    },
    "tags": []
   },
   "source": [
    "## Additional comparisons"
   ]
  },
  {
   "cell_type": "markdown",
   "id": "8c49a4cd-2c09-4b52-962b-ad38ef3f2daa",
   "metadata": {},
   "source": [
    "In the previous examples, we show that when the incorrect resampling method is used, the scale of the resampled data is incorrect.\n",
    "\n",
    "This is not the only problem. Even when the scale is not taken into consideration (e.g., in Pearson correlations), the individual values of the resampled data are also less accurate when the incorrect resampling method is used.\n",
    "\n",
    "Here are some comparisons using correlations between the actual values obtained in `onavg-ico32` space directly, and the values resampled from `fsavg-ico64` space to `onavg-ico32` space.\n",
    "\n",
    "The first value was based on the data resampled with `keep_sum=False`, and the second value with `keep_sum=True`."
   ]
  },
  {
   "cell_type": "code",
   "execution_count": null,
   "id": "ea07e4d4-d888-496a-b164-b0033b7ab846",
   "metadata": {
    "editable": true,
    "slideshow": {
     "slide_type": ""
    },
    "tags": []
   },
   "outputs": [],
   "source": [
    "y = np.concatenate(isc_onavg)\n",
    "for x in [isc_t1, isc_t2]:\n",
    "    x = np.concatenate(x)\n",
    "    print(f'r = {pearsonr(x, y)[0]:.3f}')"
   ]
  },
  {
   "cell_type": "code",
   "execution_count": null,
   "id": "6d29545a-1e53-4713-82b4-66818bf3459e",
   "metadata": {
    "editable": true,
    "slideshow": {
     "slide_type": ""
    },
    "tags": []
   },
   "outputs": [],
   "source": [
    "y = np.concatenate(area_onavg)\n",
    "for x in [area_t1, area_t2]:\n",
    "    x = np.concatenate(x)\n",
    "    print(f'r = {pearsonr(x, y)[0]:.3f}')"
   ]
  }
 ],
 "metadata": {
  "kernelspec": {
   "display_name": "Python 3 (ipykernel)",
   "language": "python",
   "name": "python3"
  },
  "language_info": {
   "codemirror_mode": {
    "name": "ipython",
    "version": 3
   },
   "file_extension": ".py",
   "mimetype": "text/x-python",
   "name": "python",
   "nbconvert_exporter": "python",
   "pygments_lexer": "ipython3",
   "version": "3.8.12"
  }
 },
 "nbformat": 4,
 "nbformat_minor": 5
}