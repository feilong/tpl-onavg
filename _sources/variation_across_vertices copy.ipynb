{
 "cells": [
  {
   "attachments": {},
   "cell_type": "markdown",
   "metadata": {},
   "source": [
    "# Varation in vertex properties across the cortex"
   ]
  },
  {
   "cell_type": "code",
   "execution_count": 1,
   "metadata": {},
   "outputs": [],
   "source": [
    "import numpy as np\n",
    "from scipy.interpolate import interp1d\n",
    "import neuroboros as nb\n",
    "import matplotlib.pyplot as plt\n",
    "import matplotlib as mpl\n",
    "import seaborn as sns"
   ]
  },
  {
   "cell_type": "code",
   "execution_count": 2,
   "metadata": {},
   "outputs": [],
   "source": [
    "nc = 10\n",
    "colors = np.concatenate(\n",
    "    [sns.color_palette(\"mako\", nc)[1:],\n",
    "     [[0.9, 0.9, 0.9]],\n",
    "     sns.color_palette(\"rocket\", nc)[1:][::-1]],\n",
    "    axis=0)\n",
    "cmap = mpl.colors.LinearSegmentedColormap.from_list('mako_rocket', colors)"
   ]
  },
  {
   "cell_type": "code",
   "execution_count": 3,
   "metadata": {},
   "outputs": [],
   "source": [
    "vertex_properties = {}\n",
    "spaces = ['fsavg-ico32', 'fslr-ico32', 'onavg-ico32']\n",
    "\n",
    "for space in spaces:\n",
    "    ivd = []\n",
    "    for lr in 'lr':\n",
    "        coords, faces = nb.geometry('midthickness', lr, space)\n",
    "        surf = nb.surface.Surface(coords, faces)\n",
    "        neighbors = surf.neighbors\n",
    "        distances = nb.distances(lr, space)\n",
    "        d = []\n",
    "        for i, nbrs in enumerate(neighbors):\n",
    "            d.append(distances[i, nbrs].mean())\n",
    "        d = np.array(d)\n",
    "        ivd.append(d)\n",
    "    vertex_properties['ivd', space] = np.concatenate(ivd)"
   ]
  },
  {
   "cell_type": "code",
   "execution_count": 4,
   "metadata": {},
   "outputs": [],
   "source": [
    "for space in spaces:\n",
    "    counts = []\n",
    "    for lr in 'lr':\n",
    "        sls = nb.sls(lr, 20, space, mask=False)\n",
    "        counts += [len(_) for _ in sls]\n",
    "    vertex_properties['sl_count', space] = np.array(counts)"
   ]
  },
  {
   "cell_type": "code",
   "execution_count": 7,
   "metadata": {},
   "outputs": [],
   "source": [
    "for space in spaces:\n",
    "    area = [nb.morphometry('area.mid', lr, space) for lr in 'lr']\n",
    "    masks = [nb.mask(lr, space) for lr in 'lr']\n",
    "    vertex_properties['area', space] = np.concatenate([_[m] for _, m in zip(area, masks)])"
   ]
  },
  {
   "cell_type": "code",
   "execution_count": 15,
   "metadata": {},
   "outputs": [
    {
     "name": "stdout",
     "output_type": "stream",
     "text": [
      "ivd [0.08352656 0.07902751]\n",
      "sl_count [0.04734505 0.0439038 ]\n",
      "area [0.04633051 0.0447125 ]\n"
     ]
    },
    {
     "data": {
      "image/png": "[encoded data removed]",
      "text/plain": [
       "<Figure size 432x288 with 3 Axes>"
      ]
     },
     "metadata": {
      "needs_background": "light"
     },
     "output_type": "display_data"
    }
   ],
   "source": [
    "properties = ['ivd', 'sl_count', 'area']\n",
    "colors = np.array(sns.color_palette('tab10'))\n",
    "fig, axs = plt.subplots(1, 3, figsize=(6, 4))\n",
    "for prop, ax in zip(properties, axs):\n",
    "    stds = np.array([np.std(vertex_properties[prop, space], ddof=1) for space in spaces])\n",
    "    for i, space in enumerate(spaces):\n",
    "        c = colors[i]\n",
    "        ax.bar(i, stds[i], color=c, edgecolor=c * 0.5, label=space, linewidth=2)\n",
    "    ax.set_xticks([])\n",
    "    ax.set_title(prop)\n",
    "    print(prop, stds[2]**2 / stds[:2]**2)\n",
    "plt.show()"
   ]
  },
  {
   "cell_type": "code",
   "execution_count": 4,
   "metadata": {},
   "outputs": [],
   "source": [
    "sls_counts = {}\n",
    "for space in ['fsavg-ico32', 'fslr-ico32', 'onavg-ico32']:\n",
    "    counts = []\n",
    "    for lr in 'lr':\n",
    "        sls = nb.sls(lr, 20, space, mask=False)\n",
    "        counts += [len(_) for _ in sls]\n",
    "    sls_counts[space] = np.array(counts)"
   ]
  },
  {
   "cell_type": "code",
   "execution_count": 11,
   "metadata": {},
   "outputs": [
    {
     "data": {
      "text/plain": [
       "{'fsavg-ico32': array([145, 136, 187, ...,  91,  96,  95]),\n",
       " 'fslr-ico32': array([151, 156, 130, ...,  85,  88,  85]),\n",
       " 'onavg-ico32': array([119, 123, 122, ..., 118, 116, 115])}"
      ]
     },
     "execution_count": 11,
     "metadata": {},
     "output_type": "execute_result"
    }
   ],
   "source": [
    "sls_counts"
   ]
  },
  {
   "cell_type": "code",
   "execution_count": 18,
   "metadata": {},
   "outputs": [
    {
     "data": {
      "text/plain": [
       "(4.811790201137479, 4.118643020577534, 5.504937381697425)"
      ]
     },
     "execution_count": 18,
     "metadata": {},
     "output_type": "execute_result"
    }
   ],
   "source": [
    "mean, vmin, vmax"
   ]
  },
  {
   "cell_type": "code",
   "execution_count": 19,
   "metadata": {},
   "outputs": [
    {
     "data": {
      "text/plain": [
       "array([122.95152858,  61.47576429, 245.90305716])"
      ]
     },
     "execution_count": 19,
     "metadata": {},
     "output_type": "execute_result"
    }
   ],
   "source": [
    "np.exp([mean, vmin, vmax])"
   ]
  },
  {
   "cell_type": "code",
   "execution_count": 21,
   "metadata": {},
   "outputs": [
    {
     "data": {
      "text/plain": [
       "array([ 43.46992981,  73.1074163 , 122.95152858, 206.77899927,\n",
       "       347.75943847])"
      ]
     },
     "execution_count": 21,
     "metadata": {},
     "output_type": "execute_result"
    }
   ],
   "source": [
    "np.exp(ticks)"
   ]
  },
  {
   "cell_type": "code",
   "execution_count": 27,
   "metadata": {},
   "outputs": [
    {
     "name": "stdout",
     "output_type": "stream",
     "text": [
      "[ 62.  85.  95. 108. 122. 135. 146. 158. 171. 190. 309.]\n",
      "[ 57.  86.  96. 109. 122. 133. 143. 156. 171. 192. 336.]\n",
      "[ 99. 115. 117. 119. 120. 122. 123. 125. 127. 132. 218.]\n"
     ]
    }
   ],
   "source": [
    "for i, space in enumerate([f'fsavg-ico{ico}', f'fslr-ico{ico}', f'onavg-ico{ico}']):\n",
    "    d = data_dict[space]\n",
    "    nb.percentile(np.exp(d))"
   ]
  },
  {
   "cell_type": "code",
   "execution_count": 33,
   "metadata": {},
   "outputs": [],
   "source": [
    "ico = 32\n",
    "data_dict = {key: np.log(val) for key, val in sls_counts.items()}\n",
    "mean = data_dict[f'onavg-ico{ico}'].mean()\n",
    "vmin, vmax = mean - np.log(2) * 1.5, mean + np.log(2) * 1.5\n",
    "ticks = np.linspace(0, 1, 7) * (vmax - vmin) + vmin\n",
    "\n",
    "norm = mpl.colors.Normalize(vmin=vmin, vmax=vmax, clip=True)\n",
    "lim = [vmin, vmax]\n",
    "mpl.rcParams['font.family'] = 'Arial'\n",
    "fig = plt.figure(figsize=(4.5/2.54, 4.2/2.54), dpi=600)\n",
    "\n",
    "\n",
    "for i, space in enumerate([f'fsavg-ico{ico}', f'fslr-ico{ico}', f'onavg-ico{ico}']):\n",
    "    d = data_dict[space]\n",
    "    y = [0.85, 0.7, 0.3][i]\n",
    "    ax = fig.add_axes([0.05, y, 0.9, 0.2])\n",
    "    bins = np.linspace(lim[0], lim[1], 51)\n",
    "    for k in ['left', 'right', 'top']:\n",
    "        ax.spines[k].set_visible(False)\n",
    "    ax.set_yticks([])\n",
    "    ax.set_xticks([])\n",
    "    amplitudes, _, patches = ax.hist(\n",
    "        d, bins, orientation='vertical', density=True, clip_on=False)\n",
    "    for i, p in enumerate(patches):\n",
    "        v = bins[[i, i+1]].mean()\n",
    "        c = cmap(norm(v))\n",
    "        p.set_facecolor(c)\n",
    "    ax.set_xlim(lim)\n",
    "    ax.set_ylim([0, {64:9, 32:4.5}[ico]])\n",
    "    ax.set_facecolor([1.0, 1.0, 1.0, 0.0])\n",
    "    ax.annotate(space, (0.05, y+0.09), xycoords='figure fraction', size=7,\n",
    "               va='top', ha='left')\n",
    "\n",
    "ax2 = fig.add_axes([0.05, 0.14, 0.9, 0.05])\n",
    "v = np.linspace(vmin, vmax, 10001)\n",
    "c = cmap(norm(v))\n",
    "\n",
    "ax2.imshow(c[np.newaxis], extent=[0, 1, 0, 1])\n",
    "ax2.set_xlim([0, 1])\n",
    "ax2.set_ylim([0, 1])\n",
    "ax2.set_yticks([])\n",
    "ax2.set_xticks(interp1d(lim, [0, 1], axis=0)(ticks))\n",
    "ax2.set_xticklabels([f'{np.exp(_):.0f}' for _ in ticks], size=5)\n",
    "ax2.set_xlabel('# of vertices in a 20 mm searchlight', size=7, labelpad=0)\n",
    "ax2.set_aspect('auto')\n",
    "ax2.tick_params(axis='both', pad=1, length=3, labelsize=6)\n",
    "\n",
    "annots = [(0.04, 'less', 'left'), (0.5, 'better', 'center'),\n",
    "          (0.96, 'more', 'right')]\n",
    "for x, txt, ha in annots:\n",
    "    ax2.annotate(txt, (x, 0.21), xycoords='figure fraction', size=7, ha=ha)\n",
    "\n",
    "plt.savefig(f'sl_vertex_count_ico{ico}.png', dpi=600)\n",
    "plt.close()"
   ]
  },
  {
   "attachments": {},
   "cell_type": "markdown",
   "metadata": {},
   "source": [
    ":::::{div} full-width\n",
    "::::{grid}\n",
    ":gutter: 1\n",
    "\n",
    ":::{grid-item-card} histogram\n",
    "![Searchlight vertex count](sl_vertex_count_ico32.png)\n",
    ":::\n",
    "\n",
    "::::\n",
    ":::::"
   ]
  },
  {
   "attachments": {},
   "cell_type": "markdown",
   "metadata": {},
   "source": [
    "## Small numerical differences\n",
    "The numbers based on the ``ouroboros`` package slightly differ from those reported in the manuscript.\n",
    "- In the manuscript, the inter-vertex distance was computed by first averaging across all neighbors, and then averaging across all participants; In this Jupyter Book, the distance was first averaged across all participants, and then averaged across neighbors. Note that we used 95% trimmed mean when averaging across participants, and therefore these two steps are not commutative, and small numerical differences can occur based on the order of the operations.\n",
    "- Resampling vertex properties from the native space of each participant.\n",
    "- fMRIPrep version.\n"
   ]
  },
  {
   "attachments": {},
   "cell_type": "markdown",
   "metadata": {},
   "source": []
  }
 ],
 "metadata": {
  "kernelspec": {
   "display_name": "Python 3",
   "language": "python",
   "name": "python3"
  },
  "language_info": {
   "codemirror_mode": {
    "name": "ipython",
    "version": 3
   },
   "file_extension": ".py",
   "mimetype": "text/x-python",
   "name": "python",
   "nbconvert_exporter": "python",
   "pygments_lexer": "ipython3",
   "version": "3.9.2"
  },
  "orig_nbformat": 4
 },
 "nbformat": 4,
 "nbformat_minor": 2
}
