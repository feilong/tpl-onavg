{
 "cells": [
  {
   "cell_type": "markdown",
   "id": "2ebe973f-b401-4193-a78b-d5b7545f6570",
   "metadata": {},
   "source": [
    "# Benchmarking computational time"
   ]
  },
  {
   "cell_type": "markdown",
   "id": "f9d96a6c-c39a-42fd-9cf3-868a79f895fe",
   "metadata": {},
   "source": [
    "In this Jupyter Notebook, we demonstrate how to benchmark the computational time of various algorithms.\n",
    "While running these algorithms, we recorded the computational time using `nb.record` or `nb.utils.monitor` (see other Notebooks), and the records can be parsed using `nb.utils.parse_record`."
   ]
  },
  {
   "cell_type": "markdown",
   "id": "39c71457-5309-46f4-999a-2ecf9a3ee1ce",
   "metadata": {},
   "source": [
    "To compare computational time across template spaces (fsavg, fslr, and onavg), it is important that the computations are performed on the same node of the HPC cluster and in the same environment.\n",
    "`nb.utils.parse_record` has an `assert_node` parameter, which can be used to ensure that the computations were performed on a specific node.\n",
    "\n",
    "The computational times in this Notebook were based on the latest s-nodes of the Discovery HPC cluster, and they are faster in general. However, the differences between template spaces still remain, and the computational times are shorter when using `onavg` instead of other template spaces."
   ]
  },
  {
   "cell_type": "code",
   "execution_count": 1,
   "id": "1fe6db93-fb12-45bd-9af7-74243b512ccc",
   "metadata": {},
   "outputs": [],
   "source": [
    "import numpy as np\n",
    "import neuroboros as nb\n",
    "import matplotlib.pyplot as plt\n",
    "import matplotlib as mpl\n",
    "import seaborn as sns"
   ]
  },
  {
   "cell_type": "markdown",
   "id": "9d4bc6d6-4e5b-47c1-a2ea-ec44f5483d81",
   "metadata": {},
   "source": [
    "This example uses the `ico32` resolution. For other resolutions, simply change the setting here."
   ]
  },
  {
   "cell_type": "code",
   "execution_count": 2,
   "id": "e3204160-bf43-4172-8378-e26beee8a53e",
   "metadata": {},
   "outputs": [],
   "source": [
    "ico = 32\n",
    "spaces = [f'{a}-ico{b}' for a in ['fsavg', 'fslr', 'onavg'] for b in [ico]]\n",
    "dsets = ['budapest', 'raiders']"
   ]
  },
  {
   "cell_type": "code",
   "execution_count": 3,
   "id": "c75a3d96-156f-479a-8dd6-1d883f0ffc3a",
   "metadata": {},
   "outputs": [],
   "source": [
    "colors = np.array(sns.color_palette('tab10'))\n",
    "np.set_printoptions(4, linewidth=200)\n",
    "if os.path.exists('Arial.ttf'):\n",
    "    from matplotlib import font_manager\n",
    "    font_manager.fontManager.addfont('Arial.ttf')\n",
    "mpl.rcParams['font.family'] = 'Arial'"
   ]
  },
  {
   "cell_type": "markdown",
   "id": "20d23002-95ba-40d8-833a-554bb760253c",
   "metadata": {},
   "source": [
    "## Hyperalignment template creation"
   ]
  },
  {
   "cell_type": "markdown",
   "id": "e98d2e0e-ab69-47a0-b817-d3f6878e8d55",
   "metadata": {},
   "source": [
    "This section shows the computational time to create a functional template for hyperalignment, which is also known as a common space.\n",
    "\n",
    "The computational time is proportional to the number of participants. In this case, the time for these two datasets (_n_ = 21 and 23, respectively, for _Budapest_ and _Raiders_) is similar to the StudyForrest dataset (_n_ = 15), even though the computations were performed on a faster HPC node for these two datasets.\n",
    "\n",
    "To accurately record the CPU time, the computations were performed in a single-threaded manner. Typically, these computations are performed in parallel and are much faster (e.g., about half an hour per hemisphere with `n_jobs=40`)."
   ]
  },
  {
   "cell_type": "code",
   "execution_count": 4,
   "id": "9e5dd5d4-8f3d-4539-96df-2261b28ebbad",
   "metadata": {},
   "outputs": [],
   "source": [
    "tpl_time = {}\n",
    "for dset_name in dsets:\n",
    "    for space in spaces:\n",
    "        t = [\n",
    "            nb.utils.parse_record(\n",
    "                f'ha_tpl/{dset_name}/{space}_{lr}h_1st-half_20mm.npy.finish',\n",
    "                assert_node='s01')[0] / 1e9\n",
    "            for lr in 'lr']\n",
    "        tpl_time[dset_name, space] = np.array(t)"
   ]
  },
  {
   "cell_type": "markdown",
   "id": "9a1c39c7-8727-4d7a-9211-078c1a36f5f5",
   "metadata": {},
   "source": [
    "Each entry in the dictionary is a NumPy array with 2 values, which is the computational time in seconds for the left and right hemispheres, respectively."
   ]
  },
  {
   "cell_type": "code",
   "execution_count": 5,
   "id": "6cca86ac-cb1a-41fc-a789-6eb0bb29b653",
   "metadata": {},
   "outputs": [
    {
     "data": {
      "text/plain": [
       "(2,)"
      ]
     },
     "execution_count": 5,
     "metadata": {},
     "output_type": "execute_result"
    }
   ],
   "source": [
    "tpl_time[dset_name, space].shape"
   ]
  },
  {
   "cell_type": "code",
   "execution_count": 6,
   "id": "e396586c-c3a7-4709-81c1-233ed94bb689",
   "metadata": {},
   "outputs": [
    {
     "data": {
      "image/png": "[encoded data removed]",
      "text/plain": [
       "<Figure size 629.921x314.961 with 2 Axes>"
      ]
     },
     "metadata": {
      "needs_background": "light"
     },
     "output_type": "display_data"
    }
   ],
   "source": [
    "fig, axs = plt.subplots(1, 2, figsize=[_/2.54 for _ in (8, 4)], dpi=200)\n",
    "for dset_name, ax in zip(dsets, axs):\n",
    "    for i, space in enumerate(spaces):\n",
    "        c = colors[i]\n",
    "        ax.bar(i, tpl_time[dset_name, space].sum() / 3600, label=space,\n",
    "              color=c, ec=c * 0.5)\n",
    "    ax.set_title(dset_name.capitalize(), size=6, pad=3)\n",
    "    ax.set_xticks(np.arange(3), spaces)\n",
    "    ax.set_ylabel('Computational time (hours)', size=6, labelpad=0)\n",
    "    ax.tick_params('both', size=2, pad=1, labelsize=5)\n",
    "fig.subplots_adjust(left=0.08, right=0.98, top=0.9, bottom=0.09, wspace=0.3)\n",
    "plt.savefig('computational_time_template.png', dpi=300, transparent=True)\n",
    "plt.show()"
   ]
  },
  {
   "cell_type": "markdown",
   "id": "5d2b6ee6-70d9-4ad6-a143-1e4e81faccb1",
   "metadata": {},
   "source": [
    "## Hyperalignment transformations"
   ]
  },
  {
   "cell_type": "markdown",
   "id": "927e10a0-13c6-4987-b9fe-16428f97dcc8",
   "metadata": {},
   "source": [
    "This section is the computational time of hyperalignment transformation matrices, based on the orthogonal Procrustes algorithm and the warp hyperalignment algorithm, respectively."
   ]
  },
  {
   "cell_type": "code",
   "execution_count": 7,
   "id": "28b67cf1-9c4f-4f4d-8c1f-e6c1cb915b12",
   "metadata": {},
   "outputs": [],
   "source": [
    "flavors = ['procr', 'ridge']\n",
    "\n",
    "xfm_time = {}\n",
    "for dset_name in dsets:\n",
    "    dset = nb.dataset(dset_name)\n",
    "    sids = dset.subjects\n",
    "    for space in spaces:\n",
    "        folder = f'ha_xfm/{dset_name}/{space}_1st-half'\n",
    "        for flavor in ['procr', 'ridge']:\n",
    "            tt = []\n",
    "            for sid in sids:\n",
    "                t = [nb.utils.parse_record(\n",
    "                         f'{folder}/{sid}_{lr}h_{flavor}_to-tmpl_20mm.npz.finish',\n",
    "                         assert_node='s01') / 1e9\n",
    "                     for lr in 'lr']\n",
    "                tt.append(np.array(t))\n",
    "            tt = np.array(tt)\n",
    "            xfm_time[dset_name, space, flavor] = tt"
   ]
  },
  {
   "cell_type": "markdown",
   "id": "731bea2b-0e61-41ec-aed3-e0e6efd73f80",
   "metadata": {},
   "source": [
    "Each entry in the dictionary is a NumPy array, and its shape is `(number of subjects, two hemispheres, CPU/wall time)`."
   ]
  },
  {
   "cell_type": "code",
   "execution_count": 8,
   "id": "4c8bb75d-7fd2-4558-a160-d3115d05338b",
   "metadata": {},
   "outputs": [
    {
     "data": {
      "text/plain": [
       "(23, 2, 2)"
      ]
     },
     "execution_count": 8,
     "metadata": {},
     "output_type": "execute_result"
    }
   ],
   "source": [
    "tt.shape"
   ]
  },
  {
   "cell_type": "markdown",
   "id": "c1390681-89ea-468a-9f5c-c2b41a0a5860",
   "metadata": {},
   "source": [
    "Here we show the average CPU time across participants.\n",
    "\n",
    "The error bars are standard errors of the mean (SEs).\n",
    "However, the SEs are very small, and the error bars are hardly visible."
   ]
  },
  {
   "cell_type": "code",
   "execution_count": 9,
   "id": "d212439f-e44b-4a4b-9d80-1c6b2792e4fd",
   "metadata": {},
   "outputs": [
    {
     "data": {
      "image/png": "[encoded data removed]",
      "text/plain": [
       "<Figure size 629.921x314.961 with 2 Axes>"
      ]
     },
     "metadata": {
      "needs_background": "light"
     },
     "output_type": "display_data"
    }
   ],
   "source": [
    "flavor = 'procr'\n",
    "\n",
    "fig, axs = plt.subplots(1, 2, figsize=[_/2.54 for _ in (8, 4)], dpi=200)\n",
    "for dset_name, ax in zip(dsets, axs):\n",
    "    for i, space in enumerate(spaces):\n",
    "        t = xfm_time[dset_name, space, flavor].sum(axis=1)[:, 0] / 60\n",
    "        m = t.mean(axis=0)\n",
    "        se = t.std(axis=0, ddof=1) / np.sqrt(len(t))\n",
    "        c = colors[i]\n",
    "        ax.bar(i, m, yerr=se, label=space, color=c, ec=c * 0.5)\n",
    "    ax.set_title(dset_name.capitalize(), size=6, pad=3)\n",
    "    ax.set_xticks(np.arange(3), spaces)\n",
    "    # ax.set_yticks(np.arange(5) * 0.5)\n",
    "    ax.set_ylabel('Computational time (minutes)', size=6, labelpad=0)\n",
    "    ax.tick_params('both', size=2, pad=1, labelsize=5)\n",
    "fig.subplots_adjust(left=0.08, right=0.98, top=0.9, bottom=0.09, wspace=0.3)\n",
    "plt.savefig(f'computational_time_{flavor}.png', dpi=300, transparent=True)\n",
    "plt.show()"
   ]
  },
  {
   "cell_type": "code",
   "execution_count": 10,
   "id": "06739a25-bec7-42f4-b46b-be910f099f05",
   "metadata": {},
   "outputs": [
    {
     "data": {
      "image/png": "[encoded data removed]",
      "text/plain": [
       "<Figure size 629.921x314.961 with 2 Axes>"
      ]
     },
     "metadata": {
      "needs_background": "light"
     },
     "output_type": "display_data"
    }
   ],
   "source": [
    "flavor = 'ridge'\n",
    "\n",
    "fig, axs = plt.subplots(1, 2, figsize=[_/2.54 for _ in (8, 4)], dpi=200)\n",
    "for dset_name, ax in zip(dsets, axs):\n",
    "    for i, space in enumerate(spaces):\n",
    "        t = xfm_time[dset_name, space, flavor].sum(axis=1)[:, 0] / 60\n",
    "        m = t.mean(axis=0)\n",
    "        se = t.std(axis=0, ddof=1) / np.sqrt(len(t))\n",
    "        c = colors[i]\n",
    "        ax.bar(i, m, yerr=se, label=space, color=c, ec=c * 0.5)\n",
    "    ax.set_title(dset_name.capitalize(), size=6, pad=3)\n",
    "    ax.set_xticks(np.arange(3), spaces)\n",
    "    # ax.set_yticks(np.arange(6) * 0.5)\n",
    "    ax.set_ylabel('Computational time (minutes)', size=6, labelpad=0)\n",
    "    ax.tick_params('both', size=2, pad=1, labelsize=5)\n",
    "fig.subplots_adjust(left=0.08, right=0.98, top=0.9, bottom=0.09, wspace=0.3)\n",
    "plt.savefig(f'computational_time_{flavor}.png', dpi=300, transparent=True)\n",
    "plt.show()"
   ]
  },
  {
   "cell_type": "markdown",
   "id": "3f6ecc30-ea69-4d94-9096-bf869bc2ffa8",
   "metadata": {},
   "source": [
    "## Movie segment classification"
   ]
  },
  {
   "cell_type": "code",
   "execution_count": 11,
   "id": "0bcbab06-dec0-4ea0-b725-d2c4c635f1df",
   "metadata": {},
   "outputs": [],
   "source": [
    "clf_time = {}\n",
    "train_dur, test_dur = '1st-half', '2nd-half'\n",
    "size = 5\n",
    "radius = 20\n",
    "align_radius = 20\n",
    "\n",
    "for dset_name in dsets:\n",
    "    dset = nb.dataset(dset_name)\n",
    "    sids = dset.subjects\n",
    "    for space in spaces:\n",
    "        for align in ['surf', 'procr', 'ridge']:\n",
    "            tt = []\n",
    "            for sid in sids:\n",
    "                folder = f'sl_clf/{dset_name}/{space}_{align}_{align_radius}mm'\\\n",
    "                    f'_{train_dur}_{test_dur}_{size}TRs'\n",
    "                t = [nb.utils.parse_record(\n",
    "                         f'{folder}/{sid}_{lr}h_{radius}mm.npy.finish',\n",
    "                         assert_node='s19') / 1e9\n",
    "                     for lr in 'lr']\n",
    "                tt.append(np.array(t))\n",
    "            tt = np.array(tt)\n",
    "            clf_time[dset_name, space, align] = tt"
   ]
  },
  {
   "cell_type": "markdown",
   "id": "6df119f6-1170-4a8e-a2bb-cc11268d0017",
   "metadata": {},
   "source": [
    "Each entry in the dictionary is a NumPy array, and its shape is `(number of subjects, two hemispheres, CPU/wall time)`."
   ]
  },
  {
   "cell_type": "code",
   "execution_count": 12,
   "id": "c3cb946d-0e83-4182-a040-43470a20a086",
   "metadata": {},
   "outputs": [
    {
     "data": {
      "text/plain": [
       "(23, 2, 2)"
      ]
     },
     "execution_count": 12,
     "metadata": {},
     "output_type": "execute_result"
    }
   ],
   "source": [
    "tt.shape"
   ]
  },
  {
   "cell_type": "code",
   "execution_count": 13,
   "id": "4d41118b-01a5-4dfb-b34c-3c3c55418e32",
   "metadata": {},
   "outputs": [
    {
     "data": {
      "image/png": "[encoded data removed]",
      "text/plain": [
       "<Figure size 629.921x314.961 with 2 Axes>"
      ]
     },
     "metadata": {
      "needs_background": "light"
     },
     "output_type": "display_data"
    }
   ],
   "source": [
    "fig, axs = plt.subplots(1, 2, figsize=[_/2.54 for _ in (8, 4)], dpi=200)\n",
    "for dset_name, ax in zip(dsets, axs):\n",
    "    for i, space in enumerate(spaces):\n",
    "        tt = np.array([clf_time[dset_name, space, align].sum(axis=1)[:, 0]\n",
    "                       for align in ['surf', 'procr', 'ridge']])\n",
    "        t = tt.mean(axis=0) / 60\n",
    "        m = t.mean(axis=0)\n",
    "        se = t.std(axis=0, ddof=1) / np.sqrt(len(t))\n",
    "        c = colors[i]\n",
    "        ax.bar(i, m, yerr=se, label=space, color=c, ec=c * 0.5)\n",
    "    ax.set_title(dset_name.capitalize(), size=6, pad=3)\n",
    "    ax.set_xticks(np.arange(3), spaces)\n",
    "    # ax.set_yticks(np.arange(6) * 0.5)\n",
    "    ax.set_ylabel('Computational time (minutes)', size=6, labelpad=0)\n",
    "    ax.tick_params('both', size=2, pad=1, labelsize=5)\n",
    "fig.subplots_adjust(left=0.08, right=0.98, top=0.9, bottom=0.09, wspace=0.3)\n",
    "plt.savefig(f'computational_time_clf.png', dpi=300, transparent=True)\n",
    "plt.show()"
   ]
  },
  {
   "cell_type": "markdown",
   "id": "6f517fe0-9333-4094-bb3f-b17de0421de1",
   "metadata": {},
   "source": [
    "## Representational similarity analysis"
   ]
  },
  {
   "cell_type": "markdown",
   "id": "804bc721-1371-4e3a-89a0-bfe90eb93b35",
   "metadata": {},
   "source": [
    "Due to the nature of the RSA analysis, the computational time was recorded separately for each searchlight to avoid storing the representational dissimilarity matrices (RDMs).\n",
    "\n",
    "It is time-consuming to load these records (one file per searchlight), and therefore we use a summary file to store all the numbers to avoid loading these records repetitively."
   ]
  },
  {
   "cell_type": "code",
   "execution_count": 14,
   "id": "3f78c0ce-4b66-4fa5-ad5f-f0ac0583577b",
   "metadata": {},
   "outputs": [],
   "source": [
    "rsa_time_fn = f'rsa_time_ico{ico}.pkl'\n",
    "if not os.path.exists(rsa_time_fn):\n",
    "    rsa_time = {}\n",
    "    train_dur, test_dur = '1st-half', '2nd-half'\n",
    "    radius = 20\n",
    "    align_radius = 20\n",
    "    metric = 'correlation'\n",
    "    \n",
    "    for align in ['surf', 'procr', 'ridge']:\n",
    "        for dset_name, node in zip(dsets, ['s19', 's19']):\n",
    "            for space in spaces:\n",
    "                folder = f'sl_rsa_isc/{dset_name}/{space}_{align}_'\\\n",
    "                         f'{align_radius}_{test_dur}'\n",
    "                tt = []\n",
    "                for lr in 'lr':\n",
    "                    sls = nb.sls(lr, radius, space=space,\n",
    "                                 center_space=space.split('-')[0] + '-ico32')\n",
    "                    for sl_idx in range(len(sls)):\n",
    "                        t = nb.utils.parse_record(\n",
    "                            f'{folder}/{lr}h_{radius}mm_{metric}/'\\\n",
    "                            f'{sl_idx:05d}.npz.timing',\n",
    "                            assert_node=node,\n",
    "                        ) / 1e9\n",
    "                        tt.append(t)\n",
    "                tt = np.array(tt)\n",
    "                rsa_time[dset_name, space, align] = tt\n",
    "    nb.save(rsa_time_fn, rsa_time)"
   ]
  },
  {
   "cell_type": "markdown",
   "id": "5b8b1925-45c7-4900-899c-d430b36f1dcd",
   "metadata": {},
   "source": [
    "Each entry in the dictionary is a NumPy array with two dimensions. The first is the number of vertices, and the second is whether the recorded time is CPU time or wall time.\n",
    "\n",
    "The recorded computational time for each searchlight is the total time across all participants. We divide it by the number of participants to get the computational time per participant, which is then summed up across searchlights.\n",
    "\n",
    "In this analysis, the SE is the SE across repetitions (3 alignment methods, which theoretically have the same computational complexity)."
   ]
  },
  {
   "cell_type": "code",
   "execution_count": 15,
   "id": "41a4f55e-9fa9-4455-b100-74b9cf268b4f",
   "metadata": {},
   "outputs": [],
   "source": [
    "rsa_time = nb.load(rsa_time_fn)"
   ]
  },
  {
   "cell_type": "code",
   "execution_count": 16,
   "id": "dc47e9a8-3b21-4ae6-bf28-5f772e8f800a",
   "metadata": {},
   "outputs": [
    {
     "data": {
      "text/plain": [
       "(19341, 2)"
      ]
     },
     "execution_count": 16,
     "metadata": {},
     "output_type": "execute_result"
    }
   ],
   "source": [
    "rsa_time[dset_name, space, align].shape"
   ]
  },
  {
   "cell_type": "code",
   "execution_count": 17,
   "id": "45326d73-a8df-4235-893e-876a263ed8a8",
   "metadata": {},
   "outputs": [
    {
     "data": {
      "image/png": "[encoded data removed]",
      "text/plain": [
       "<Figure size 629.921x314.961 with 2 Axes>"
      ]
     },
     "metadata": {
      "needs_background": "light"
     },
     "output_type": "display_data"
    }
   ],
   "source": [
    "fig, axs = plt.subplots(1, 2, figsize=[_/2.54 for _ in (8, 4)], dpi=200)\n",
    "for dset_name, ax in zip(dsets, axs):\n",
    "    ns = {'budapest': 21, 'raiders': 23}[dset_name]\n",
    "    for i, space in enumerate(spaces):\n",
    "        tt = [rsa_time[dset_name, space, align].sum(axis=0)[0]\n",
    "              for align in ['surf', 'procr', 'ridge']]\n",
    "        tt = np.array(tt) / 60 / ns\n",
    "        m = tt.mean()\n",
    "        se = tt.std(ddof=1) / np.sqrt(len(tt))\n",
    "        c = colors[i]\n",
    "        ax.bar(i, m, yerr=se, label=space, color=c, ec=c * 0.5)\n",
    "    ax.set_title(dset_name.capitalize(), size=6, pad=3)\n",
    "    ax.set_xticks(np.arange(3), spaces)\n",
    "    # ax.set_yticks(np.arange(0, tt.max()+0.2, 0.2))\n",
    "    ax.set_ylabel('Computational time (minutes)', size=6, labelpad=0)\n",
    "    ax.tick_params('both', size=2, pad=1, labelsize=5)\n",
    "fig.subplots_adjust(left=0.08, right=0.98, top=0.9, bottom=0.09, wspace=0.3)\n",
    "plt.savefig(f'computational_time_rsa.png', dpi=300, transparent=True)\n",
    "plt.show()"
   ]
  },
  {
   "cell_type": "code",
   "execution_count": null,
   "id": "03680691-ecc0-4449-ba7e-230f1f3a85b0",
   "metadata": {},
   "outputs": [],
   "source": []
  }
 ],
 "metadata": {
  "kernelspec": {
   "display_name": "Python 3 (ipykernel)",
   "language": "python",
   "name": "python3"
  },
  "language_info": {
   "codemirror_mode": {
    "name": "ipython",
    "version": 3
   },
   "file_extension": ".py",
   "mimetype": "text/x-python",
   "name": "python",
   "nbconvert_exporter": "python",
   "pygments_lexer": "ipython3",
   "version": "3.8.12"
  }
 },
 "nbformat": 4,
 "nbformat_minor": 5
}
